{
 "cells": [
  {
   "cell_type": "markdown",
   "metadata": {},
   "source": [
    "### Serialization\n",
    "In computer science, in the context of data storage, **serialization** (or serialisation) is the process of translating data structures or object state into a format that can be stored (for example, in a file or memory buffer) or transmitted (for example, across a network connection link) and reconstructed later (possibly in a different computer environment). When the resulting series of bits is reread according to the serialization format, it can be used to create a semantically identical clone of the original object.\n",
    "This process of serializing an object is also called **marshalling** an object in some situations. The opposite operation, extracting a data structure from a series of bytes, is deserialization (also called unmarshalling). For marshmallow, it will help convert data in basic python data types (list, dictionary) to more complicated objects (some classes you created)."
   ]
  },
  {
   "cell_type": "code",
   "execution_count": 1,
   "metadata": {},
   "outputs": [],
   "source": [
    "from marshmallow import Schema, fields, post_load"
   ]
  },
  {
   "cell_type": "code",
   "execution_count": 2,
   "metadata": {},
   "outputs": [],
   "source": [
    "class Person(object):\n",
    "    \n",
    "    def __init__(self, name, age):\n",
    "        self.name = name\n",
    "        self.age = age\n",
    "        \n",
    "    def __repr__(self):\n",
    "        return \"{} is {} years old\".format(self.name, self.age)"
   ]
  },
  {
   "cell_type": "markdown",
   "metadata": {},
   "source": [
    "Convert input data into an object in this person object"
   ]
  },
  {
   "cell_type": "code",
   "execution_count": 5,
   "metadata": {},
   "outputs": [],
   "source": [
    "class PersonSchema(Schema):\n",
    "    name = fields.String()\n",
    "    age = fields.Integer()"
   ]
  },
  {
   "cell_type": "code",
   "execution_count": 6,
   "metadata": {},
   "outputs": [
    {
     "name": "stdout",
     "output_type": "stream",
     "text": [
      "Thalia is 26 years old\n"
     ]
    }
   ],
   "source": [
    "input_dict = {}\n",
    "input_dict['name'] = input('What is your name?')\n",
    "input_dict['age'] = input('How old are you?')\n",
    "\n",
    "person = Person(name=input_dict['name'], age=input_dict['age'])\n",
    "print(person)"
   ]
  },
  {
   "cell_type": "markdown",
   "metadata": {},
   "source": [
    "Next, we are going to use Marshmallow to convert this complex data object into a simple python data type (like string or list or json data). We will serialize the Person (complex python object) to a simple data type."
   ]
  },
  {
   "cell_type": "code",
   "execution_count": 7,
   "metadata": {},
   "outputs": [],
   "source": [
    "schema = PersonSchema()\n",
    "result = schema.dump(person) # Serialize the Person object to simple python data type"
   ]
  },
  {
   "cell_type": "code",
   "execution_count": 8,
   "metadata": {},
   "outputs": [
    {
     "name": "stdout",
     "output_type": "stream",
     "text": [
      "{'age': 26,\n",
      "'name': 'Thalia'}\n"
     ]
    }
   ],
   "source": [
    "import pprint\n",
    "pp = pprint.PrettyPrinter(indent=0,width=20)\n",
    "pp.pprint(result)"
   ]
  },
  {
   "cell_type": "markdown",
   "metadata": {},
   "source": [
    "input_data is converted to a Person object then convert back to a dictionary now."
   ]
  },
  {
   "cell_type": "code",
   "execution_count": 9,
   "metadata": {},
   "outputs": [
    {
     "name": "stdout",
     "output_type": "stream",
     "text": [
      "{'age': 26,\n",
      "'name': 'Thalia'}\n"
     ]
    }
   ],
   "source": [
    "result = schema.load(input_dict)  # Take in the input dictionary\n",
    "pp.pprint(result)"
   ]
  },
  {
   "cell_type": "code",
   "execution_count": 7,
   "metadata": {},
   "outputs": [],
   "source": [
    "class PersonSchema(Schema):\n",
    "    name = fields.String()\n",
    "    age = fields.Integer()\n",
    "    @post_load\n",
    "    def create_person(self, data):\n",
    "        return Person(data)"
   ]
  },
  {
   "cell_type": "code",
   "execution_count": 4,
   "metadata": {},
   "outputs": [],
   "source": [
    "input_dict = {}\n",
    "input_dict['name'] = input('What is your name?')\n",
    "input_dict['age'] = input('How old are you?')"
   ]
  },
  {
   "cell_type": "code",
   "execution_count": null,
   "metadata": {},
   "outputs": [],
   "source": [
    "schema = PersonSchema()\n",
    "result = schema.load(input_dict)  # Take in the input dictionary\n",
    "pp.pprint(result) # Expected output: Thalia is 26 years old (a Person object)"
   ]
  },
  {
   "cell_type": "markdown",
   "metadata": {},
   "source": [
    "### Use marshmallow to validate input data"
   ]
  },
  {
   "cell_type": "code",
   "execution_count": 9,
   "metadata": {},
   "outputs": [],
   "source": [
    "from marshmallow import ValidationError, validates\n",
    "\n",
    "class Person(object):\n",
    "    \n",
    "    def __init__(self, name, age, email):\n",
    "        self.name = name\n",
    "        self.age = age\n",
    "        self.email = email\n",
    "        \n",
    "    def __repr__(self):\n",
    "        return \"{} is {} years old\".format(self.name, self.age)\\\n",
    "    \n",
    "# def validate_age(age):\n",
    "#     if age < 25:\n",
    "#         raise ValidationError('This is too young!') # Custom error message\n",
    "\n",
    "class PersonSchema(Schema):\n",
    "    name = fields.String()\n",
    "    age = fields.Integer()#(validate=validate_age)\n",
    "    email = fields.Email()\n",
    "    \n",
    "    @post_load\n",
    "    def create_person(self, data):\n",
    "        return Person(data)\n",
    "    \n",
    "    @validates('age')\n",
    "    def validate_age(self, age):\n",
    "        if age < 25:\n",
    "            raise ValidationError(\"Too young\")"
   ]
  },
  {
   "cell_type": "code",
   "execution_count": 12,
   "metadata": {},
   "outputs": [],
   "source": [
    "input_dict = {}\n",
    "input_dict['name'] = input('What is your name? ')\n",
    "input_dict['age'] = input('How old are you? ')\n",
    "input_dict['email'] = input('What is your email ')"
   ]
  },
  {
   "cell_type": "code",
   "execution_count": null,
   "metadata": {},
   "outputs": [],
   "source": [
    "schema = PersonSchema()\n",
    "schema.load(input_dict.error) \n",
    "# Expected result: {}, {'email':['Not a valid email address']. 'age':['Too young']}"
   ]
  },
  {
   "cell_type": "code",
   "execution_count": null,
   "metadata": {},
   "outputs": [],
   "source": []
  }
 ],
 "metadata": {
  "kernelspec": {
   "display_name": "Python 3",
   "language": "python",
   "name": "python3"
  },
  "language_info": {
   "codemirror_mode": {
    "name": "ipython",
    "version": 3
   },
   "file_extension": ".py",
   "mimetype": "text/x-python",
   "name": "python",
   "nbconvert_exporter": "python",
   "pygments_lexer": "ipython3",
   "version": "3.6.6"
  }
 },
 "nbformat": 4,
 "nbformat_minor": 2
}
